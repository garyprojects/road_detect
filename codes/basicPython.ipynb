{
  "nbformat": 4,
  "nbformat_minor": 0,
  "metadata": {
    "colab": {
      "name": "basicPython.ipynb",
      "provenance": [],
      "collapsed_sections": []
    },
    "kernelspec": {
      "name": "python3",
      "display_name": "Python 3"
    },
    "language_info": {
      "name": "python"
    }
  },
  "cells": [
    {
      "cell_type": "markdown",
      "source": [
        "**Python Hello World Tutorial**"
      ],
      "metadata": {
        "id": "OSFL_o-2-krI"
      }
    },
    {
      "cell_type": "code",
      "execution_count": null,
      "metadata": {
        "id": "SSNcanTCkIng"
      },
      "outputs": [],
      "source": [
        "# You can use the command below to check the installed packages in Colab\n",
        "!pip list\n",
        "\n",
        "# You can also install additional package\n",
        "# !pip install \"functionName\""
      ]
    },
    {
      "cell_type": "markdown",
      "source": [
        "**Some simple python statements**\n",
        "\n",
        "For other printing format, please check the website below\n",
        "\n",
        "[https://www.geeksforgeeks.org/python-output-formatting/](https://www.geeksforgeeks.org/python-output-formatting/)"
      ],
      "metadata": {
        "id": "EU5orEx5_R6I"
      }
    },
    {
      "cell_type": "code",
      "source": [
        "print(\"Hello World\")"
      ],
      "metadata": {
        "id": "K136aO20m6ZB"
      },
      "execution_count": null,
      "outputs": []
    },
    {
      "cell_type": "code",
      "source": [
        "a = 1\n",
        "b = 2\n",
        "print(a+b)"
      ],
      "metadata": {
        "id": "OhFm-FbroFaY"
      },
      "execution_count": null,
      "outputs": []
    },
    {
      "cell_type": "code",
      "source": [
        "# This is a single line comment\n",
        "\n",
        "'''\n",
        "This is multiple line comment\n",
        "This is multiple line comment\n",
        "'''\n",
        "\n",
        "print(\"Example of writing comment\")"
      ],
      "metadata": {
        "id": "HFkKB-AhoVqF"
      },
      "execution_count": null,
      "outputs": []
    },
    {
      "cell_type": "markdown",
      "source": [
        "**Condition**"
      ],
      "metadata": {
        "id": "yHyFN6Vf_0-x"
      }
    },
    {
      "cell_type": "code",
      "source": [
        "grade = 80\n",
        "if (grade >= 70):\n",
        "  print('pass!')\n",
        "else:\n",
        "  print('fail...')"
      ],
      "metadata": {
        "id": "CmZ7HBa0yvWZ"
      },
      "execution_count": null,
      "outputs": []
    },
    {
      "cell_type": "code",
      "source": [
        "grade = 80\n",
        "if (grade >= 70):\n",
        "  print('pass!')\n",
        "elif(grade < 60):\n",
        "  print('fail...')"
      ],
      "metadata": {
        "id": "bjLBSGCbzOd2"
      },
      "execution_count": null,
      "outputs": []
    },
    {
      "cell_type": "markdown",
      "source": [
        "**Looping**"
      ],
      "metadata": {
        "id": "uYR5e_8R_xxX"
      }
    },
    {
      "cell_type": "code",
      "source": [
        "for i in range (10):\n",
        "  if i>5:\n",
        "    continue\n",
        "  else:\n",
        "    for j in range (10):\n",
        "      print(j)"
      ],
      "metadata": {
        "id": "EN1-sUi2o2jb"
      },
      "execution_count": null,
      "outputs": []
    },
    {
      "cell_type": "code",
      "source": [
        "for i in range (1,3):\n",
        "  print (i)"
      ],
      "metadata": {
        "id": "4CweVo4F12WT"
      },
      "execution_count": null,
      "outputs": []
    },
    {
      "cell_type": "code",
      "source": [
        "for i in range (1, 10, 2):\n",
        "  print(i)"
      ],
      "metadata": {
        "id": "XfrkNydf1-Ff"
      },
      "execution_count": null,
      "outputs": []
    },
    {
      "cell_type": "code",
      "source": [
        "n = int (input(\"Enter a number n:\"))\n",
        "for j in range (0, n):\n",
        "    for i in range (0, n):\n",
        "        print(\"* \", end=\"\")\n",
        "    print (\"\")\n"
      ],
      "metadata": {
        "id": "bJDxGY9q2xPX"
      },
      "execution_count": null,
      "outputs": []
    },
    {
      "cell_type": "markdown",
      "source": [
        "**Functions:**"
      ],
      "metadata": {
        "id": "LV5zFJ_o_m-l"
      }
    },
    {
      "cell_type": "code",
      "source": [
        "def printString( strPrint, n):\n",
        "    for i in range (0, n):\n",
        "        print (strPrint)\n",
        "\n",
        "printString (\"Hello World\", 5)"
      ],
      "metadata": {
        "id": "IypSTTMo5Xai"
      },
      "execution_count": null,
      "outputs": []
    },
    {
      "cell_type": "code",
      "source": [
        "def addition(no1, no2):\n",
        "    answer = no1 + no2\n",
        "    return answer\n",
        "\n",
        "a = float(input(\"a=\"))\n",
        "b = float(input(\"b=\"))\n",
        "\n",
        "print (f\"{a} + {b} = {addition(a, b):.2f}\")"
      ],
      "metadata": {
        "id": "Ft_ys7La5wI5"
      },
      "execution_count": null,
      "outputs": []
    },
    {
      "cell_type": "markdown",
      "source": [
        "**Exercise 0 – Warm up**"
      ],
      "metadata": {
        "id": "5DtoUuCjD19F"
      }
    },
    {
      "cell_type": "code",
      "source": [
        "''' \n",
        "Task1\n",
        "Requirement:\n",
        "1)  User can enter their test result\n",
        "2)  They will past the test when the score is higher or equal then 40;\n",
        "    otherwise they will fail in the test\n",
        "'''\n",
        "\n"
      ],
      "metadata": {
        "id": "v7HJJ1psECqB"
      },
      "execution_count": null,
      "outputs": []
    },
    {
      "cell_type": "code",
      "source": [
        "''' \n",
        "Task2\n",
        "Requirement:\n",
        "1)  User can enter the number of star for display\n",
        "2)  Produce two graphs given by the handout\n",
        "'''\n",
        "\n"
      ],
      "metadata": {
        "id": "C1rrt1QUEsLA"
      },
      "execution_count": null,
      "outputs": []
    },
    {
      "cell_type": "code",
      "source": [
        "''' \n",
        "Task3 - (Challenge)\n",
        "You can check the link below to understand more about recursive function\n",
        "https://www.programiz.com/python-programming/recursion\n",
        "\n",
        "Requirement:\n",
        "1)  User can enter the number to calculate the factorial of any positive number \n",
        "'''\n",
        "\n"
      ],
      "metadata": {
        "id": "VGgJeMpwFQOt"
      },
      "execution_count": null,
      "outputs": []
    }
  ]
}