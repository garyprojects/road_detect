{
  "nbformat": 4,
  "nbformat_minor": 0,
  "metadata": {
    "colab": {
      "name": "Data visualization.ipynb",
      "provenance": [],
      "collapsed_sections": []
    },
    "kernelspec": {
      "name": "python3",
      "display_name": "Python 3"
    },
    "language_info": {
      "name": "python"
    }
  },
  "cells": [
    {
      "cell_type": "code",
      "source": [
        "import numpy as np \n",
        "from matplotlib import pyplot as plt \n",
        "x = np.arange(1,11) \n",
        "y =  2  * x +  5 \n",
        "plt.title(\"Matplotlib demo 1\") \n",
        "plt.xlabel(\"x axis caption\") \n",
        "plt.ylabel(\"y axis caption\") \n",
        "plt.plot(x,y) \n",
        "plt.show()"
      ],
      "metadata": {
        "id": "uABwYLfxmk_S"
      },
      "execution_count": null,
      "outputs": []
    },
    {
      "cell_type": "code",
      "source": [
        "import numpy as np \n",
        "import matplotlib.pyplot as plt \n",
        "x = np.arange(1,11) \n",
        "y =  2  * x +  5 \n",
        "plt.title(\"Matplotlib demo 2\") \n",
        "plt.xlabel(\"x axis caption\") \n",
        "plt.ylabel(\"y axis caption\") \n",
        "plt.plot(x,y,\"ob\") \n",
        "plt.show()"
      ],
      "metadata": {
        "id": "dH44PEpplOw3"
      },
      "execution_count": null,
      "outputs": []
    },
    {
      "cell_type": "code",
      "source": [
        "from matplotlib import pyplot as plt \n",
        "x =  [5,8,10] \n",
        "y =  [12,16,6] \n",
        "x2 =  [6,9,11] \n",
        "y2 =  [6,15,7] \n",
        "plt.bar(x, y, align =  'center') \n",
        "plt.bar(x2, y2, color =  'g', align =  'center') \n",
        "plt.title('Bar graph') \n",
        "plt.ylabel('Y axis') \n",
        "plt.xlabel('X axis') \n",
        "plt.show()"
      ],
      "metadata": {
        "id": "H8VzA3nknwNA"
      },
      "execution_count": null,
      "outputs": []
    },
    {
      "cell_type": "code",
      "source": [
        "import matplotlib.pyplot as plt\n",
        "import numpy as np\n",
        "x = np.arange(0, 1.0, 0.01)\n",
        "y1 = np.sin(4*np.pi*x)\n",
        "y2 = np.sin(2*np.pi*x)\n",
        "lines = plt.plot(x, y1, x, y2)\n",
        "l1, l2 = lines\n",
        "plt.setp(lines, linestyle='--')      \n",
        "plt.show()"
      ],
      "metadata": {
        "id": "6y9_b98WnPqK"
      },
      "execution_count": null,
      "outputs": []
    },
    {
      "cell_type": "code",
      "source": [
        "from matplotlib import pyplot as plt \n",
        "import numpy as np  \n",
        " \n",
        "a = np.array([22,87,5,43,56,73,55,54,11,20,51,5,79,31,27]) \n",
        "plt.hist(a, bins =  [0,20,40,60,80,100], linewidth=2, edgecolor=\"white\") \n",
        "plt.title(\"histogram\") \n",
        "plt.show()"
      ],
      "metadata": {
        "id": "qkrWWti7n0we"
      },
      "execution_count": null,
      "outputs": []
    }
  ]
}