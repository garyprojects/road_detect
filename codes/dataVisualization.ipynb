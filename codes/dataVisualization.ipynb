{
  "nbformat": 4,
  "nbformat_minor": 0,
  "metadata": {
    "colab": {
      "name": "dataVisualization.ipynb",
      "provenance": [],
      "collapsed_sections": []
    },
    "kernelspec": {
      "name": "python3",
      "display_name": "Python 3"
    },
    "language_info": {
      "name": "python"
    }
  },
  "cells": [
    {
      "cell_type": "markdown",
      "source": [
        "**Examples for data visualization:**"
      ],
      "metadata": {
        "id": "nOJ3yR6a7Jh2"
      }
    },
    {
      "cell_type": "code",
      "source": [
        "import numpy as np \n",
        "from matplotlib import pyplot as plt \n",
        "x = np.arange(1,11) \n",
        "y =  2  * x +  5 \n",
        "plt.title(\"Matplotlib demo 1\") \n",
        "plt.xlabel(\"x axis caption\") \n",
        "plt.ylabel(\"y axis caption\") \n",
        "plt.plot(x,y) \n",
        "plt.show()"
      ],
      "metadata": {
        "id": "uABwYLfxmk_S"
      },
      "execution_count": null,
      "outputs": []
    },
    {
      "cell_type": "code",
      "source": [
        "import numpy as np \n",
        "import matplotlib.pyplot as plt \n",
        "x = np.arange(1,11) \n",
        "y =  2  * x +  5 \n",
        "plt.title(\"Matplotlib demo 2\") \n",
        "plt.xlabel(\"x axis caption\") \n",
        "plt.ylabel(\"y axis caption\") \n",
        "plt.plot(x,y,\"or\") \n",
        "plt.show()"
      ],
      "metadata": {
        "id": "dH44PEpplOw3"
      },
      "execution_count": null,
      "outputs": []
    },
    {
      "cell_type": "code",
      "source": [
        "import matplotlib.pyplot as plt\n",
        "import numpy as np\n",
        "x = np.arange(0, 1.0, 0.01)\n",
        "y1 = np.sin(4*np.pi*x)\n",
        "y2 = np.sin(2*np.pi*x)\n",
        "lines = plt.plot(x, y1,\"--\", x, y2, \"--\")\n",
        "\n",
        "plt.show()"
      ],
      "metadata": {
        "id": "6y9_b98WnPqK"
      },
      "execution_count": null,
      "outputs": []
    },
    {
      "cell_type": "code",
      "source": [
        "import numpy as np \n",
        "import matplotlib.pyplot as plt  \n",
        "   \n",
        "# Compute the x and y coordinates for points on sine and cosine curves \n",
        "x = np.arange(0, 3 * np.pi, 0.1) \n",
        "y_sin = np.sin(x) \n",
        "y_cos = np.cos(x)  \n",
        "   \n",
        "# Set up a subplot grid that has height 2 and width 1, \n",
        "# and set the first such subplot as active. \n",
        "plt.subplot(2, 1, 1)\n",
        "   \n",
        "# Make the first plot \n",
        "plt.plot(x, y_sin) \n",
        "plt.title('Sine')  \n",
        "   \n",
        "# Set the second subplot as active, and make the second plot. \n",
        "plt.subplot(2, 1, 2) \n",
        "plt.plot(x, y_cos) \n",
        "plt.title('Cosine')  \n",
        "   \n",
        "# Show the figure. \n",
        "plt.show()"
      ],
      "metadata": {
        "id": "CjcFmpda5hGh"
      },
      "execution_count": null,
      "outputs": []
    },
    {
      "cell_type": "markdown",
      "source": [
        "**Excercise 1 - Data visualization**"
      ],
      "metadata": {
        "id": "_vDPx7RcziCY"
      }
    },
    {
      "cell_type": "code",
      "source": [
        "# celsius_min = [19.6, 24.1, 26.7, 28.3, 27.5, 30.5, 32.8, 33.1]\n",
        "# celsius_max = [24.8, 28.9, 31.3, 33.0, 34.9, 35.6, 38.4, 39.2]"
      ],
      "metadata": {
        "id": "6MLadoGqzpUO"
      },
      "execution_count": null,
      "outputs": []
    },
    {
      "cell_type": "markdown",
      "source": [
        "**Excercise 2 - Data visualization**"
      ],
      "metadata": {
        "id": "Wpg460Cw4Osj"
      }
    },
    {
      "cell_type": "code",
      "source": [
        "# x1 = np.linspace(0.0, 5.0)\n",
        "# y1 = np.cos(2 * np.pi * x1) * np.exp(-x1)\n",
        "# x2 = np.linspace(0.0, 2.0)\n",
        "# y2 = np.cos(2 * np.pi * x2)"
      ],
      "metadata": {
        "id": "f2IGpEiV6JhN"
      },
      "execution_count": null,
      "outputs": []
    }
  ]
}